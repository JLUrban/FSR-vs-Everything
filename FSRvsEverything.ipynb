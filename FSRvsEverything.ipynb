{
 "cells": [
  {
   "cell_type": "code",
   "execution_count": null,
   "metadata": {},
   "outputs": [],
   "source": [
    "import numpy as np\n",
    "import pandas as pd\n",
    "import ipywidgets as widgets\n",
    "\n",
    "from os import listdir\n",
    "from os.path import isfile, join, exists"
   ]
  },
  {
   "cell_type": "code",
   "execution_count": null,
   "metadata": {},
   "outputs": [],
   "source": [
    "def create_paper_summary_data_frame():\n",
    "    doi = input(\"DOI for paper: \")\n",
    "    directory = input(\"Data Directory for paper: \")\n",
    "    #list of all the [folders/plots] for paper ()\n",
    "    plots_in_dir = listdir(directory)  #jlu\n",
    "    num_plots = len(plots_in_dir)\n",
    "    \n",
    "    for i in range(num_plots):\n",
    "        paper_descript = input(\"One sentence summary of paper: \")   #   jlu\n",
    "        plot_foldername = directory + \"/\" + plots_in_dir[i]\n",
    "        # list of all the csv's associated with plot\n",
    "        data_segs_for_plot = listdir(plot_foldername)  #jlu \n",
    "        print(data_segs_for_plot)\n",
    "        num_segs_in_plot = len(data_segs_for_plot)\n",
    "        x_label = widgets.Dropdown(\n",
    "            options={'Air Vel [cm/s]': 1,'FSR [mm/s]': 2,'d_c [mm]': 3, 'd_i [mm]': 4, 'P_atm': 5, '[O2]': 6, 'g': 7, \n",
    "                     'q_ext [kW/m^2]': 8, 'core material': 9, 'insulation material': 10,'orientation (vert/horiz)': 11, \n",
    "                     'up | down': 12},\n",
    "            value=1,\n",
    "            description='x - axis:',\n",
    "            disabled=False,\n",
    "        )\n",
    "        display(x_label)\n",
    "        y_label = widgets.Dropdown(\n",
    "            options={'Air Vel [cm/s]': 1,'FSR [mm/s]': 2,'d_c [mm]': 3, 'd_i [mm]': 4, 'P_atm': 5, '[O2]': 6, 'g': 7, \n",
    "                     'q_ext [kW/m^2]': 8, 'core material': 9, 'insulation material': 10,'orientation (vert/horiz)': 11, \n",
    "                     'up | down': 12},\n",
    "            value=2,\n",
    "            description='y - axis:',\n",
    "            disabled=False,\n",
    "        )\n",
    "        display(y_label)\n",
    "        cols = ['Air Vel [cm/s]','FSR [mm/s]','d_c [mm]', 'd_i [mm]',\n",
    "                      'P_atm', '[O2]', 'g', 'q_ext [kW/m^2]', 'core material', \n",
    "                      'insulation material','orientation (vert/horiz)', 'up | down']\n",
    "        df1 = pd.DataFrame(index = plots_in_dir, \n",
    "                           columns = cols)\n",
    "        for j in range(num_segs_in_plot):\n",
    "            name_of_seg_in_plot = plot_foldername + \"/\" + data_segs_for_plot[j]\n",
    "            print(name_of_seg_in_plot)\n",
    "            skeleton_row = []\n",
    "            for k in cols:\n",
    "                # we are also importing that from the plot digitized data\n",
    "                skeleton_row.append(input(\"For data seg \" + data_segs_for_plot[j] + \" \" + k))\n",
    "            print(df1)"
   ]
  },
  {
   "cell_type": "code",
   "execution_count": null,
   "metadata": {},
   "outputs": [],
   "source": [
    "create_paper_summary_data_frame()"
   ]
  },
  {
   "cell_type": "code",
   "execution_count": null,
   "metadata": {},
   "outputs": [],
   "source": [
    "df_read1 = pd.read_csv('kobayashi\\8mm_Cu.csv', skiprows=[0,1,2,3,4], index_col=False)\n",
    "df_read2 = pd.read_csv('kobayashi\\9mm_Cu.csv', skiprows=[0,1,2,3,4], index_col=False)\n",
    "df_read3 = pd.read_csv('kobayashi\\8mm_SS.csv', skiprows=[0,1,2,3,4], index_col=False)\n",
    "df_read4 = pd.read_csv('kobayashi\\9mm_SS.csv', skiprows=[0,1,2,3,4], index_col=False)\n",
    "df_read5 = pd.read_csv\n",
    "df_togeter = pd.concat([df_read1, df_read2])\n",
    "print(df_togeter)"
   ]
  }
 ],
 "metadata": {
  "kernelspec": {
   "display_name": "Python 3",
   "language": "python",
   "name": "python3"
  },
  "language_info": {
   "codemirror_mode": {
    "name": "ipython",
    "version": 3
   },
   "file_extension": ".py",
   "mimetype": "text/x-python",
   "name": "python",
   "nbconvert_exporter": "python",
   "pygments_lexer": "ipython3",
   "version": "3.7.0"
  }
 },
 "nbformat": 4,
 "nbformat_minor": 2
}
