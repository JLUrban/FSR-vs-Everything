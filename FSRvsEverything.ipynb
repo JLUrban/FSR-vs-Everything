{
 "cells": [
  {
   "cell_type": "code",
   "execution_count": 11,
   "metadata": {},
   "outputs": [],
   "source": [
    "import numpy as np\n",
    "import pandas as pd\n",
    "import ipywidgets as widgets\n",
    "import sys\n",
    "from os import listdir"
   ]
  },
  {
   "cell_type": "code",
   "execution_count": 12,
   "metadata": {},
   "outputs": [],
   "source": [
    "def create_paper_summary_data_frame():\n",
    "    doi = input(\"DOI for paper: \")\n",
    "    directory = input(\"Directory for paper: \")\n",
    "    \n",
    "    #list of all the [folders/plots] for paper ()\n",
    "    plots_in_dir = !ls $directory \n",
    "    num_plots = len(plots_in_dir)\n",
    "    \n",
    "    for i in range(num_plots):\n",
    "        paper_descript = input(\"Describe some key aspects about the paper \")\n",
    "        plot_foldername = directory + \"/\" + plots_in_dir[i]\n",
    "        \n",
    "        # list of all the csv's associated with plot\n",
    "        data_segs_for_plot = !ls $plot_foldername \n",
    "        print(data_segs_for_plot)\n",
    "        num_segs_in_plot = len(data_segs_for_plot)\n",
    "        x_label = widgets.Dropdown(\n",
    "            options={'Air Vel [cm/s]': 1,'FSR [mm/s]': 2,'d_c [mm]': 3, 'd_i [mm]': 4, 'P_atm': 5, '[O2]': 6, 'g': 7, \n",
    "                     'q_ext [kW/m^2]': 8, 'core material': 9, 'insulation material': 10,'orientation (vert/horiz)': 11, \n",
    "                     'up | down': 12},\n",
    "            value=1,\n",
    "            description='X - Axis Label:',\n",
    "            disabled=False,\n",
    "        )\n",
    "        display(x_label)\n",
    "        y_label = widgets.Dropdown(\n",
    "            options={'Air Vel [cm/s]': 1,'FSR [mm/s]': 2,'d_c [mm]': 3, 'd_i [mm]': 4, 'P_atm': 5, '[O2]': 6, 'g': 7, \n",
    "                     'q_ext [kW/m^2]': 8, 'core material': 9, 'insulation material': 10,'orientation (vert/horiz)': 11, \n",
    "                     'up | down': 12},\n",
    "            value=2,\n",
    "            description='Y - Axis Label:',\n",
    "            disabled=False,\n",
    "        )\n",
    "        display(y_label)\n",
    "        \n",
    "        cols = ['Air Vel [cm/s]','FSR [mm/s]','d_c [mm]', 'd_i [mm]',\n",
    "                      'P_atm', '[O2]', 'g', 'q_ext [kW/m^2]', 'core material', \n",
    "                      'insulation material','orientation (vert/horiz)', 'up | down']\n",
    "        final_df = pd.DataFrame(columns = cols)\n",
    "        \n",
    "        for j in range(num_segs_in_plot):\n",
    "            name_of_seg_in_plot = plot_foldername + \"/\" + data_segs_for_plot[j]\n",
    "            print(name_of_seg_in_plot)\n",
    "            skeleton_row = []\n",
    "            for k in cols:\n",
    "                if k in ['core material', 'insulation material', 'orientation (vert/horiz)', 'up | down']:\n",
    "                    skeleton_row.append(str(input(\"For data seg \" + data_segs_for_plot[j] + \" \" + k + \" \")) or 'NA')\n",
    "                else: \n",
    "                    skeleton_row.append(float(input(\"For data seg \" + data_segs_for_plot[j] + \" \" + k + \" \") or 'nan'))\n",
    "            skeleton_df = pd.DataFrame(np.array([skeleton_row]), columns=cols)\n",
    "            print(skeleton_df)\n",
    "            final_df.append(skeleton_df)\n",
    "            print(final_df)\n",
    "        print(final_df)"
   ]
  },
  {
   "cell_type": "code",
   "execution_count": null,
   "metadata": {},
   "outputs": [
    {
     "name": "stdout",
     "output_type": "stream",
     "text": [
      "DOI for paper: 3\n",
      "Directory for paper: kobayashi\n",
      "Describe some key aspects about the paper 3\n",
      "['8mm_Cu.csv', '8mm_SS.csv', '9mm_Cu.csv', '9mm_SS.csv']\n"
     ]
    },
    {
     "data": {
      "application/vnd.jupyter.widget-view+json": {
       "model_id": "3f6d7585d8e443388fefffa511fc9f40",
       "version_major": 2,
       "version_minor": 0
      },
      "text/plain": [
       "Dropdown(description='X - Axis Label:', options={'Air Vel [cm/s]': 1, 'FSR [mm/s]': 2, 'd_c [mm]': 3, 'd_i [mm…"
      ]
     },
     "metadata": {},
     "output_type": "display_data"
    },
    {
     "data": {
      "application/vnd.jupyter.widget-view+json": {
       "model_id": "2ffb5417e3c04f5790e44f7deab1b3a6",
       "version_major": 2,
       "version_minor": 0
      },
      "text/plain": [
       "Dropdown(description='Y - Axis Label:', index=1, options={'Air Vel [cm/s]': 1, 'FSR [mm/s]': 2, 'd_c [mm]': 3,…"
      ]
     },
     "metadata": {},
     "output_type": "display_data"
    },
    {
     "name": "stdout",
     "output_type": "stream",
     "text": [
      "kobayashi/1/8mm_Cu.csv\n",
      "For data seg 8mm_Cu.csv Air Vel [cm/s] 3\n",
      "For data seg 8mm_Cu.csv FSR [mm/s] 3\n",
      "For data seg 8mm_Cu.csv d_c [mm] 3\n",
      "For data seg 8mm_Cu.csv d_i [mm] 3\n",
      "For data seg 8mm_Cu.csv P_atm 3\n",
      "For data seg 8mm_Cu.csv [O2] 3\n",
      "For data seg 8mm_Cu.csv g 3\n",
      "For data seg 8mm_Cu.csv q_ext [kW/m^2] 3\n",
      "For data seg 8mm_Cu.csv core material 3\n",
      "For data seg 8mm_Cu.csv insulation material 3\n",
      "For data seg 8mm_Cu.csv orientation (vert/horiz) 3\n",
      "For data seg 8mm_Cu.csv up | down 3\n",
      "  Air Vel [cm/s] FSR [mm/s] d_c [mm] d_i [mm] P_atm [O2]    g q_ext [kW/m^2]  \\\n",
      "0            3.0        3.0      3.0      3.0   3.0  3.0  3.0            3.0   \n",
      "\n",
      "  core material insulation material orientation (vert/horiz) up | down  \n",
      "0             3                   3                        3         3  \n",
      "Empty DataFrame\n",
      "Columns: [Air Vel [cm/s], FSR [mm/s], d_c [mm], d_i [mm], P_atm, [O2], g, q_ext [kW/m^2], core material, insulation material, orientation (vert/horiz), up | down]\n",
      "Index: []\n",
      "kobayashi/1/8mm_SS.csv\n"
     ]
    }
   ],
   "source": [
    "create_paper_summary_data_frame()\n"
   ]
  },
  {
   "cell_type": "markdown",
   "metadata": {},
   "source": [
    "3### 3\n",
    "3### df_read1 = pd.read_csv('kobayashi\\8mm_Cu.csv', skiprows=[0,1,2,3,4], index_col=False)\n",
    "df_read2 = pd.read_csv('kobayashi\\9mm_Cu.csv', skiprows=[0,1,2,3,4], index_col=False)\n",
    "df_read3 = pd.read_csv('kobayashi\\8mm_SS.csv', skiprows=[0,1,2,3,4], index_col=False)\n",
    "df_read4 = pd.read_csv('kobayashi\\9mm_SS.csv', skiprows=[0,1,2,3,4], index_col=False)\n",
    "df_read5 = pd.read_csv\n",
    "df_togeter = pd.concat([df_read1, df_read2])\n",
    "print(df_togeter)"
   ]
  },
  {
   "cell_type": "code",
   "execution_count": 15,
   "metadata": {},
   "outputs": [
    {
     "data": {
      "text/plain": [
       "True"
      ]
     },
     "execution_count": 15,
     "metadata": {},
     "output_type": "execute_result"
    }
   ],
   "source": [
    "'asd' in ['asd', 'dsa']"
   ]
  },
  {
   "cell_type": "code",
   "execution_count": 28,
   "metadata": {},
   "outputs": [
    {
     "data": {
      "text/plain": [
       "False"
      ]
     },
     "execution_count": 28,
     "metadata": {},
     "output_type": "execute_result"
    }
   ],
   "source": [
    "\"\" or False"
   ]
  },
  {
   "cell_type": "code",
   "execution_count": 31,
   "metadata": {},
   "outputs": [
    {
     "ename": "ValueError",
     "evalue": "invalid literal for int() with base 10: 'NA'",
     "output_type": "error",
     "traceback": [
      "\u001b[1;31m---------------------------------------------------------------------------\u001b[0m",
      "\u001b[1;31mValueError\u001b[0m                                Traceback (most recent call last)",
      "\u001b[1;32m<ipython-input-31-b1fa485c215c>\u001b[0m in \u001b[0;36m<module>\u001b[1;34m\u001b[0m\n\u001b[1;32m----> 1\u001b[1;33m \u001b[0mint\u001b[0m\u001b[1;33m(\u001b[0m\u001b[1;34m'NA'\u001b[0m\u001b[1;33m)\u001b[0m\u001b[1;33m\u001b[0m\u001b[1;33m\u001b[0m\u001b[0m\n\u001b[0m",
      "\u001b[1;31mValueError\u001b[0m: invalid literal for int() with base 10: 'NA'"
     ]
    }
   ],
   "source": [
    "int('NA')"
   ]
  },
  {
   "cell_type": "code",
   "execution_count": null,
   "metadata": {},
   "outputs": [],
   "source": []
  }
 ],
 "metadata": {
  "kernelspec": {
   "display_name": "Python 3",
   "language": "python",
   "name": "python3"
  },
  "language_info": {
   "codemirror_mode": {
    "name": "ipython",
    "version": 3
   },
   "file_extension": ".py",
   "mimetype": "text/x-python",
   "name": "python",
   "nbconvert_exporter": "python",
   "pygments_lexer": "ipython3",
   "version": "3.7.1"
  }
 },
 "nbformat": 4,
 "nbformat_minor": 2
}
